{
 "cells": [
  {
   "cell_type": "code",
   "execution_count": null,
   "metadata": {},
   "outputs": [],
   "source": [
    "# -*- coding: utf-8 -*-\n",
    "\"\"\"\n",
    "@author: luhx\n",
    "@file: removal_of_risk_warning.py\n",
    "@time: 2023/4/3 23:27\n",
    "@desc: 从东方财富爬取公告类型为：申请撤销风险警示及特别处理 的记录\n",
    "东方财富网 > 数据中心 > 公告大全 > 沪深京A股公告 > 风险提示\n",
    "链接：https://data.eastmoney.com/notices/hsa/3.html\n",
    "\"\"\"\n",
    "from selenium import webdriver\n",
    "import time\n",
    "from lxml import etree  # 数据的解析\n",
    "\n",
    "\n",
    "def get_removal_risk_stocks():\n",
    "    print(\"work begin...\")\n",
    "    option = webdriver.ChromeOptions()  # 网址获取\n",
    "    option.add_argument('headless')  # 无界面启动,即设置浏览器静默\n",
    "    driver = webdriver.Chrome(options=option)\n",
    "\n",
    "    driver.get('https://data.eastmoney.com/notices/hsa/3.html')  # 打开浏览器\n",
    "    time.sleep(2)\n",
    "\n",
    "    source = driver.page_source  # 获取页面源码\n",
    "    # print(source)\n",
    "    mytree = etree.HTML(source)\n",
    "    # mytree = etree.parse('./test2.html', etree.HTMLParser())\n",
    "    # tables = mytree.xpath('//div[@class=\"dataview-body\"]/table')\n",
    "    # tables2 = tables[0].xpath('//table/tbody')\n",
    "    # tr_arr = tables2[0].xpath('//tr[@data-index]')\n",
    "\n",
    "    index = 0\n",
    "    titles = mytree.xpath('//div[@title=\"申请撤销风险警示及特别处理\"]')\n",
    "    for title in titles:\n",
    "        # print(f\"[{index}]: {'*' * 100}\")\n",
    "        index += 1\n",
    "        p = title.xpath('./ancestor::tr[@data-index]')[0]\n",
    "        code = p.xpath('./descendant::a[@data-code]')[0].attrib['data-code']\n",
    "        name = p.xpath('./descendant::a[@data-code]')[0].attrib['data-name']\n",
    "        gg_dt = p.xpath('./child::td[last()]')[0].text\n",
    "        msg = p.xpath('./child::td/div[@class=\"ellipsis\" and @title]')[0].attrib['title']\n",
    "        print(f\"[{code}]{name}: date:{gg_dt}, title:{msg}\")\n",
    "        # print(etree.tostring(p, encoding=\"utf-8\", pretty_print=True, method=\"html\").decode(\"utf-8\"))\n",
    "\n",
    "    print(\"work end.\")\n"
   ]
  }
 ],
 "metadata": {
  "language_info": {
   "name": "python"
  },
  "orig_nbformat": 4
 },
 "nbformat": 4,
 "nbformat_minor": 2
}
